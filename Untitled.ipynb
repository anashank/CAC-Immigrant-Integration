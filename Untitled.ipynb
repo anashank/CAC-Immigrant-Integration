{
 "cells": [
  {
   "cell_type": "code",
   "execution_count": null,
   "id": "b1084b0b-af96-49cc-be25-23b201757ee3",
   "metadata": {},
   "outputs": [],
   "source": [
    "import pandas as pd\n",
    "import matplotlib.pyplot as plt\n",
    "import seaborn as sns\n",
    "\n",
    "file_path = r'/Users/andrewoh/Downloads/Natality2022.csv'\n",
    "\n",
    "try:\n",
    "    data = pd.read_csv(file_path)\n",
    "    print(\"Data loaded successfully.\")\n",
    "except FileNotFoundError:\n",
    "    print(f\"File not found: {file_path}\")\n",
    "    input(\"Press Enter to exit...\")\n",
    "    exit()\n",
    "except PermissionError:\n",
    "    print(f\"Permission denied: {file_path}. Please check file permissions.\")\n",
    "    input(\"Press Enter to exit...\")\n",
    "    exit()\n",
    "except pd.errors.EmptyDataError:\n",
    "    print(f\"No data: {file_path} is empty.\")\n",
    "    input(\"Press Enter to exit...\")\n",
    "    exit()\n",
    "except pd.errors.ParserError:\n",
    "    print(f\"Parsing error: {file_path} could not be parsed.\")\n",
    "    input(\"Press Enter to exit...\")\n",
    "    exit()\n",
    "\n",
    "print(data.head())\n",
    "\n",
    "data['mother_age'] = pd.to_numeric(data['mother_age'], errors='coerce')\n",
    "data['father_age'] = pd.to_numeric(data['father_age'], errors='coerce')\n",
    "\n",
    "filtered_data = data[(data['mother_age'] >= 25) & (data['mother_age'] <= 40) &\n",
    "                     (data['father_age'] >= 25) & (data['father_age'] <= 40)]\n",
    "\n",
    "filtered_data = filtered_data.dropna(subset=['mother_age', 'father_age'])\n",
    "\n",
    "filtered_data = filtered_data[filtered_data['mother_race_ethnicity_comb'] == filtered_data['father_race_ethnicity_comb']]\n",
    "\n",
    "average_age_mother_by_race = filtered_data.groupby('mother_race_ethnicity_comb')['mother_age'].mean().reset_index()\n",
    "average_age_father_by_race = filtered_data.groupby('father_race_ethnicity_comb')['father_age'].mean().reset_index()\n",
    "\n",
    "# mother avg age\n",
    "plt.figure(figsize=(12, 6))\n",
    "sns.barplot(x='mother_race_ethnicity_comb', y='mother_age', data=average_age_mother_by_race, palette='viridis')\n",
    "plt.title('Average Age of Mothers by Race/Ethnicity (Ages 25-40)')\n",
    "plt.xlabel('Mother Race/Ethnicity')\n",
    "plt.ylabel('Average Age')\n",
    "plt.xticks(rotation=45)\n",
    "plt.ylim(25, 40)  # Set y-axis limits to focus on the 25-40 age range\n",
    "for index, value in enumerate(average_age_mother_by_race['mother_age']):\n",
    "    plt.text(index, value + 0.2, f'{value:.1f}', ha='center')\n",
    "plt.show()\n",
    "\n",
    "# father avg age\n",
    "plt.figure(figsize=(12, 6))\n",
    "sns.barplot(x='father_race_ethnicity_comb', y='father_age', data=average_age_father_by_race, palette='viridis')\n",
    "plt.title('Average Age of Fathers by Race/Ethnicity (Ages 25-40)')\n",
    "plt.xlabel('Father Race/Ethnicity')\n",
    "plt.ylabel('Average Age')\n",
    "plt.xticks(rotation=45)\n",
    "plt.ylim(25, 40)  # Set y-axis limits to focus on the 25-40 age range\n",
    "for index, value in enumerate(average_age_father_by_race['father_age']):\n",
    "    plt.text(index, value + 0.2, f'{value:.1f}', ha='center')\n",
    "plt.show()"
   ]
  },
  {
   "cell_type": "code",
   "execution_count": null,
   "id": "712570aa-af0c-4c31-88fc-3dff3abab71a",
   "metadata": {},
   "outputs": [],
   "source": []
  },
  {
   "cell_type": "code",
   "execution_count": null,
   "id": "e6de6072-30fc-49f4-8785-3cb4c997e627",
   "metadata": {},
   "outputs": [],
   "source": []
  },
  {
   "cell_type": "code",
   "execution_count": null,
   "id": "7734b855-284e-453a-9292-19fe538955c3",
   "metadata": {},
   "outputs": [],
   "source": []
  },
  {
   "cell_type": "code",
   "execution_count": null,
   "id": "246c9d66-1d7e-4f94-a869-e2536ea59ef4",
   "metadata": {},
   "outputs": [],
   "source": []
  },
  {
   "cell_type": "code",
   "execution_count": null,
   "id": "55686d7e-a605-465e-99df-03ea3194322d",
   "metadata": {},
   "outputs": [],
   "source": []
  }
 ],
 "metadata": {
  "kernelspec": {
   "display_name": "Python 3 (ipykernel)",
   "language": "python",
   "name": "python3"
  },
  "language_info": {
   "codemirror_mode": {
    "name": "ipython",
    "version": 3
   },
   "file_extension": ".py",
   "mimetype": "text/x-python",
   "name": "python",
   "nbconvert_exporter": "python",
   "pygments_lexer": "ipython3",
   "version": "3.11.1"
  }
 },
 "nbformat": 4,
 "nbformat_minor": 5
}
